{
 "cells": [
  {
   "cell_type": "code",
   "execution_count": null,
   "id": "707d8f03",
   "metadata": {},
   "outputs": [],
   "source": [
    "import json\n",
    "import requests\n",
    "\n",
    "\n",
    "datas = [{\n",
    "        'city_name': '高雄市',\n",
    "        'area_name': '鳳山區',\n",
    "        'door': '北昌五街28號10樓'\n",
    "        },\n",
    "        {\n",
    "        'city_name': '臺北市',\n",
    "        'area_name': '松山區',\n",
    "        'door': '健康路２４４號三樓'\n",
    "    \n",
    "        }\n",
    "    \n",
    "]\n",
    "data = {\n",
    "        'data': json.dumps(datas),\n",
    "        }\n",
    "r = requests.post('https://tw//housing_cases/get_bkey_by_addr/', data=data)\n",
    "print(json.loads(r.text))"
   ]
  },
  {
   "cell_type": "code",
   "execution_count": null,
   "id": "2e019e9f",
   "metadata": {},
   "outputs": [],
   "source": [
    "pip install pandas"
   ]
  },
  {
   "cell_type": "code",
   "execution_count": null,
   "id": "e6a2fb47",
   "metadata": {},
   "outputs": [],
   "source": [
    "import json\n",
    "data = {\n",
    "        'city_name': '臺北市',\n",
    "        'area_name': '松山區',\n",
    "        'door': '健康路２４４號三樓'\n",
    "        }\n",
    "r = requests.post('/get_bkey_by_addr/', data=data)\n",
    "print(json.loads(r.text))"
   ]
  },
  {
   "cell_type": "code",
   "execution_count": null,
   "id": "76c4567a",
   "metadata": {},
   "outputs": [],
   "source": [
    "import pandas as pd\n",
    "fpath = \"現有建物標示表門牌清單_不含社區ID.xlsx\"\n",
    "df = pd.read_excel(fpath)\n"
   ]
  },
  {
   "cell_type": "code",
   "execution_count": null,
   "id": "8fdc5a9f",
   "metadata": {},
   "outputs": [],
   "source": [
    "len(df.index)"
   ]
  },
  {
   "cell_type": "code",
   "execution_count": null,
   "id": "62f49828",
   "metadata": {},
   "outputs": [],
   "source": [
    "df"
   ]
  },
  {
   "cell_type": "code",
   "execution_count": null,
   "id": "bfc3e11c",
   "metadata": {},
   "outputs": [],
   "source": [
    "# 舊api\n",
    "import requests as req\n",
    "import json\n",
    "\n",
    "for i in range(len(df_cut300.index)):\n",
    "    aa=df_cut300.at[i,\"縣市\"]\n",
    "    bb=df_cut300.at[i,\"區域\"]\n",
    "    cc= df_cut300.at[i,\"地址\"]\n",
    "\n",
    "\n",
    "\n",
    "    url = 'tw/build_data/get_bkey_by_addr/'\n",
    "    address = {\n",
    "                    'token': 'a8502f4e-0ba8-4e94-ae66-03381ae723ba' ,\n",
    "                    'city_name': '{}'.format(aa),\n",
    "                    'area_name': '{}'.format(bb),\n",
    "                    'door':   '{}'.format(cc),\n",
    "                    'query_type': 0,\n",
    "                    'search_type': 0\n",
    "                     }\n",
    "    resp1 = req.post(url=url,data=address)\n",
    "    result1 = json.loads(resp1.text)\n",
    "    print (result1)"
   ]
  },
  {
   "cell_type": "code",
   "execution_count": null,
   "id": "3fb9a228",
   "metadata": {},
   "outputs": [],
   "source": [
    "aa=\"高雄市\"\n",
    "bb=\"前鎮區\"\n",
    "cc=\"一心二路10之9號\"\n",
    "\n",
    "\n",
    "\n",
    "url = '/build_data/get_bkey_by_addr/'\n",
    "address = {\n",
    "                'token': 'a8502f4e-0ba8-4e94-ae66-03381ae723ba' ,\n",
    "                'city_name': '{}'.format(aa),\n",
    "                'area_name': '{}'.format(bb),\n",
    "                'door':   '{}'.format(cc),\n",
    "                'query_type': 0,\n",
    "                'search_type': 0\n",
    "                 }\n",
    "resp1 = req.post(url=url,data=address)\n",
    "result1 = json.loads(resp1.text)\n",
    "print (result1)"
   ]
  },
  {
   "cell_type": "code",
   "execution_count": null,
   "id": "946d899c",
   "metadata": {},
   "outputs": [],
   "source": [
    "import json\n",
    "import requests\n",
    "\n",
    "for i in range(len(df_cut3000.index)):\n",
    "    data = {\n",
    "        'city_name': df_cut3000.at[i,\"縣市\"],\n",
    "        'area_name': df_cut3000.at[i,\"行政區\"],\n",
    "        'door': df_cut3000.at[i,\"地址\"]\n",
    "        }\n",
    "    r = requests.post('tw//housing_cases/get_bkey_by_addr/', data=data)\n",
    "    print(json.loads(r.text))\n",
    "    \n"
   ]
  },
  {
   "cell_type": "code",
   "execution_count": null,
   "id": "99b80d99",
   "metadata": {},
   "outputs": [],
   "source": [
    "column_names = ['縣市','行政區','地址']\n",
    "\n",
    "df23 = df.groupby(by=column_names).groups\n",
    "\n",
    "list1 = list(df23.keys())\n"
   ]
  },
  {
   "cell_type": "code",
   "execution_count": null,
   "id": "2bd4ce57",
   "metadata": {},
   "outputs": [],
   "source": [
    "df"
   ]
  },
  {
   "cell_type": "code",
   "execution_count": null,
   "id": "776cc855",
   "metadata": {},
   "outputs": [],
   "source": [
    "for i in range(len(list1)):\n",
    "    data = {\n",
    "        'city_name': list1[i][0],\n",
    "        'area_name': list1[i][1],\n",
    "        'door': list1[i][2]\n",
    "        }\n",
    "    r = requests.post('housing_cases/get_bkey_by_addr/', data=data)\n",
    "    print(json.loads(r.text))\n",
    "    \n"
   ]
  },
  {
   "cell_type": "code",
   "execution_count": null,
   "id": "411fd244",
   "metadata": {},
   "outputs": [],
   "source": [
    "import json\n",
    "import requests\n",
    "\n",
    "all_list=[]\n",
    "\n",
    "for i in range(len(df.index)):\n",
    "    try:\n",
    "        data = {\n",
    "            'city_name': df.at[i,\"縣市\"],\n",
    "            'area_name': df.at[i,\"行政區\"],\n",
    "            'door': df.at[i,\"地址\"]\n",
    "            }\n",
    "        r = requests.post('get_bkey_by_addr/', data=data)\n",
    "        print(json.loads(r.text))\n",
    "        result=json.loads(r.text)\n",
    "\n",
    "        dicct= {\n",
    "            \"縣市\":result['data']['city_name'],\n",
    "            \"行政區\":result['data']['area_name'],\n",
    "            \"輸入門牌\":df.at[i,\"地址\"],\n",
    "            \"回傳門牌\":result['data']['door'],\n",
    "            \"bkey\":result['data']['bkey']\n",
    "        }\n",
    "        all_list.append(dicct)\n",
    "        print(dicct)\n",
    "        pd.DataFrame(all_list).to_excel('現有建物標示表門牌清單_不含社區ID_output.xlsx')\n",
    "    except Exception as e:\n",
    "        print(e)\n",
    "\n",
    "\n",
    "\n",
    "\n",
    "\n"
   ]
  },
  {
   "cell_type": "code",
   "execution_count": null,
   "id": "2edba895",
   "metadata": {},
   "outputs": [],
   "source": [
    "all_list=[]\n",
    "pd.DataFrame(all_list).to_excel('門牌缺漏清單_不包含0808提供的門牌且去除社區加密ID_group門牌_output.xlsx')\n",
    "print('ok')"
   ]
  },
  {
   "cell_type": "code",
   "execution_count": null,
   "id": "679090d4",
   "metadata": {},
   "outputs": [],
   "source": [
    "# 範例\n",
    "\n",
    "from bs4 import BeautifulSoup\n",
    "import concurrent.futures\n",
    "import requests\n",
    "import time\n",
    " \n",
    " \n",
    "def scrape(urls):\n",
    "    response = requests.get(urls)\n",
    " \n",
    "    soup = BeautifulSoup(response.content, \"lxml\")\n",
    " \n",
    "    # 爬取文章標題\n",
    "    titles = soup.find_all(\"h3\", {\"class\": \"post_title\"})\n",
    " \n",
    "    for title in titles:\n",
    "        print(title.getText().strip())\n",
    " \n",
    "    time.sleep(2)\n",
    " \n",
    " \n",
    "base_url = \"https://www.inside.com.tw/tag/AI\"\n",
    "urls = [f\"{base_url}?page={page}\" for page in range(1, 6)]  # 1~5頁的網址清單\n",
    " \n",
    "start_time = time.time()  # 開始時間\n",
    " \n",
    "# 同時建立及啟用10個執行緒\n",
    "with concurrent.futures.ThreadPoolExecutor(max_workers=10) as executor:\n",
    "    executor.map(scrape, urls)\n",
    " \n",
    "end_time = time.time()\n",
    "print(f\"{end_time - start_time} 秒爬取 {len(urls)} 頁的文章\")"
   ]
  },
  {
   "cell_type": "code",
   "execution_count": null,
   "id": "06f18faf",
   "metadata": {},
   "outputs": [],
   "source": [
    "raw_list=[]\n",
    "for i in range(len(df.index)):\n",
    "    \n",
    "    try:\n",
    "        data = {\n",
    "            'city_name': df.at[i,\"縣市\"],\n",
    "            'area_name': df.at[i,\"行政區\"],\n",
    "            'door': df.at[i,\"地址\"]\n",
    "            }\n",
    "        raw_list.append(data)\n",
    "    except Exception as e: \n",
    "        pass\n",
    "    \n"
   ]
  },
  {
   "cell_type": "code",
   "execution_count": null,
   "id": "9523fcbe",
   "metadata": {},
   "outputs": [],
   "source": [
    "len(raw_list)"
   ]
  },
  {
   "cell_type": "code",
   "execution_count": null,
   "id": "5ff490a3",
   "metadata": {},
   "outputs": [],
   "source": [
    "raw_list[-100:]"
   ]
  },
  {
   "cell_type": "code",
   "execution_count": null,
   "id": "d0b41ba6",
   "metadata": {},
   "outputs": [],
   "source": [
    "\n",
    "\n",
    "import numpy\n",
    "list_cut = numpy.array_split(raw_list,10)\n",
    "\n",
    "list_cut\n",
    "len(list_cut[1])"
   ]
  },
  {
   "cell_type": "code",
   "execution_count": null,
   "id": "e5ba7edb",
   "metadata": {},
   "outputs": [],
   "source": [
    "list_cut"
   ]
  },
  {
   "cell_type": "code",
   "execution_count": null,
   "id": "3344c8c3",
   "metadata": {},
   "outputs": [],
   "source": [
    "\n",
    "\n",
    "from bs4 import BeautifulSoup\n",
    "import concurrent.futures\n",
    "import requests\n",
    "import time\n",
    " \n",
    "    \n",
    "all_list=[]\n",
    "\n",
    "def scrape(list_cut):\n",
    "    for dic in list_cut:\n",
    "        try:\n",
    "#         print(dic)\n",
    "            data = {\n",
    "                'city_name': dic['city_name'],\n",
    "                'area_name': dic['area_name'],\n",
    "                'door':dic['door']\n",
    "                }\n",
    "    #         print(data)\n",
    "            r = requests.post('tw//housing_cases/get_bkey_by_addr/', data=data)\n",
    "            print(json.loads(r.text))\n",
    "            result=json.loads(r.text)      \n",
    "            dicct= {\n",
    "                \"縣市\":result['data']['city_name'],\n",
    "                \"行政區\":result['data']['area_name'],\n",
    "                \"輸入門牌\":dic['door'],\n",
    "                \"回傳門牌\":result['data']['door'],\n",
    "                \"bkey\":result['data']['bkey']\n",
    "            }\n",
    "            all_list.append(dicct)\n",
    "        except Exception as e: \n",
    "            print(e) \n",
    "        \n",
    " \n",
    " \n",
    "# base_url = \"https://www.inside.com.tw/tag/AI\"\n",
    "# urls = [f\"{base_url}?page={page}\" for page in range(1, 6)]  # 1~5頁的網址清單\n",
    " \n",
    "start_time = time.time()  # 開始時間\n",
    " \n",
    "# 同時建立及啟用10個執行緒\n",
    "with concurrent.futures.ThreadPoolExecutor(max_workers=10) as executor:\n",
    "    executor.map(scrape, list_cut)\n",
    " \n",
    "end_time = time.time()\n",
    "print(f\"{end_time - start_time} 秒爬取  {len(all_list)}筆\")\n",
    "pd.DataFrame(all_list).to_excel('現有建物標示表門牌清單_不含社區ID_output_test.xlsx')"
   ]
  },
  {
   "cell_type": "code",
   "execution_count": null,
   "id": "786493dd",
   "metadata": {},
   "outputs": [],
   "source": [
    "from IPython.display import clear_output\n",
    "\n",
    "for i in range(10):\n",
    "    clear_output(wait=True)\n",
    "    print(\"Hello World!\")"
   ]
  },
  {
   "cell_type": "code",
   "execution_count": null,
   "id": "3a6d3521",
   "metadata": {},
   "outputs": [],
   "source": [
    "import pymysql\n",
    "\n",
    "db_settings_build_data = {\n",
    "    \"host\": \"\",\n",
    "    \"port\": 3306,\n",
    "    \"user\": \"shine\",\n",
    "    \"password\": \"\",\n",
    "    \"db\": \"build_data\",\n",
    "    \"charset\": \"utf8\"\n",
    "}\n",
    "\n",
    "try:\n",
    "    # 建立Connection物件\n",
    "    conn = pymysql.connect(**db_settings_build_data)\n",
    "    \n",
    "except Exception as ex:\n",
    "    print(ex)\n",
    "    \n",
    "bkey = 'H_08_0165_00009-000'\n",
    "with conn.cursor(pymysql.cursors.DictCursor) as cursor:\n",
    "    # 查詢資料SQL語法\n",
    "    command = f\"SELECT * FROM build_data.bm_build_list where bkey = '{bkey}' ;\"\n",
    "    command2 = f\"SELECT * FROM build_data.build_mark where bkey = '{bkey}' ;\"\n",
    "    # 執行指令\n",
    "    cursor.execute(command)\n",
    "    # 取得所有資料\n",
    "    result = cursor.fetchone()\n",
    "\n",
    "    cursor.execute(command2)\n",
    "    result2 = cursor.fetchone()\n",
    "\n",
    "#     field_names = [i[0] for i in cursor.description]\n",
    "#     print(result)\n",
    "\n"
   ]
  },
  {
   "cell_type": "code",
   "execution_count": null,
   "id": "adda5514",
   "metadata": {},
   "outputs": [],
   "source": [
    "result2\n"
   ]
  },
  {
   "cell_type": "code",
   "execution_count": null,
   "id": "9df20316",
   "metadata": {},
   "outputs": [],
   "source": [
    "result"
   ]
  },
  {
   "cell_type": "code",
   "execution_count": null,
   "id": "2d1c13da",
   "metadata": {},
   "outputs": [],
   "source": [
    "result"
   ]
  },
  {
   "cell_type": "code",
   "execution_count": null,
   "id": "8ebe6cb5",
   "metadata": {},
   "outputs": [],
   "source": [
    "import pymysql\n",
    "\n",
    "db_settings_build_data = {\n",
    "    \"host\": \"\",\n",
    "    \"port\": 3306,\n",
    "    \"user\": \"shine\",\n",
    "    \"password\": \"\",\n",
    "    \"db\": \"build_data\",\n",
    "    \"charset\": \"utf8\"\n",
    "}\n",
    "\n",
    "try:\n",
    "    # 建立Connection物件\n",
    "    conn = pymysql.connect(**db_settings_build_data)\n",
    "    \n",
    "except Exception as ex:\n",
    "    print(ex)\n",
    "    \n",
    "with conn.cursor() as cursor:\n",
    "    # 查詢資料SQL語法\n",
    "    command = \"SELECT * FROM build_data.bm_build_list limit 10;\"\n",
    "    # 執行指令\n",
    "    cursor.execute(command)\n",
    "    # 取得所有資料\n",
    "    result = cursor.fetchall()\n",
    "    field_names = [i[0] for i in cursor.description]\n",
    "    print(result)"
   ]
  },
  {
   "cell_type": "code",
   "execution_count": null,
   "id": "3f52754d",
   "metadata": {},
   "outputs": [],
   "source": [
    "import pandas as pd\n",
    "\n",
    "df1 = pd.read_excel(\"現有建物標示表門牌清單_不含社區ID.xlsx\")\n",
    "df2 = pd.read_excel(\"現有建物標示表門牌清單_不含社區ID_output_test.xlsx\")\n",
    "\n",
    "res = pd.merge(df1,df2, on=['行政區','縣市','地址'],how='left')\n",
    "\n",
    "res = res[res[\"bkey\"].str.contains('查')==False]\n",
    "\n",
    "res.reset_index(drop=True, inplace=True)\n",
    "\n",
    "res['地號_段_小段'] = res['地號_段'].astype(str)+'段'\n",
    "\n",
    "res['地號_小段']=res['地號_小段'].str.replace(r'小$', '', regex=True)\n",
    "\n",
    "import numpy as np\n",
    "res['地號_段_小段'] = np.where(res['地號_小段'].isnull(), res['地號_段_小段'], res['地號_段_小段']+res['地號_小段']+\"小段\")"
   ]
  },
  {
   "cell_type": "code",
   "execution_count": null,
   "id": "83850392",
   "metadata": {},
   "outputs": [],
   "source": [
    "res"
   ]
  },
  {
   "cell_type": "code",
   "execution_count": null,
   "id": "aae3636d",
   "metadata": {},
   "outputs": [],
   "source": [
    "res[res['地號_小段'].notna()]"
   ]
  },
  {
   "cell_type": "code",
   "execution_count": null,
   "id": "a0a94610",
   "metadata": {},
   "outputs": [],
   "source": [
    "res[res['地號_小段'].str.contains('小')==True]"
   ]
  },
  {
   "cell_type": "code",
   "execution_count": null,
   "id": "3ecfed64",
   "metadata": {},
   "outputs": [],
   "source": [
    "\n"
   ]
  },
  {
   "cell_type": "code",
   "execution_count": null,
   "id": "fce01af7",
   "metadata": {},
   "outputs": [],
   "source": [
    "res"
   ]
  },
  {
   "cell_type": "code",
   "execution_count": null,
   "id": "3a951be7",
   "metadata": {},
   "outputs": [],
   "source": []
  },
  {
   "cell_type": "code",
   "execution_count": null,
   "id": "0601d5e0",
   "metadata": {},
   "outputs": [],
   "source": [
    "\n",
    "res2 = res[['bkey','縣市','行政區','使照號','回傳門牌','地號_段_小段']]\n",
    "res2\n",
    "\n",
    "list2 = res2.values.tolist()\n",
    "\n",
    "\n",
    "\n",
    "import numpy\n",
    "list_cut = numpy.array_split(list2,10)\n",
    "\n",
    "list_cut\n"
   ]
  },
  {
   "cell_type": "code",
   "execution_count": null,
   "id": "8e5e800f",
   "metadata": {},
   "outputs": [],
   "source": [
    "len(list_cut[0])"
   ]
  },
  {
   "cell_type": "code",
   "execution_count": null,
   "id": "25c1dc85",
   "metadata": {},
   "outputs": [],
   "source": [
    "len(list_cut)"
   ]
  },
  {
   "cell_type": "code",
   "execution_count": null,
   "id": "84e251fb",
   "metadata": {},
   "outputs": [],
   "source": [
    "for i in list_cut:\n",
    "    for ii in i:\n",
    "        if '安坑段小粗坑小段' in str(ii):\n",
    "            print(ii)\n"
   ]
  },
  {
   "cell_type": "code",
   "execution_count": null,
   "id": "477c28b9",
   "metadata": {},
   "outputs": [],
   "source": [
    "\n",
    "\n",
    "from bs4 import BeautifulSoup\n",
    "import concurrent.futures\n",
    "import requests\n",
    "import time\n",
    "import pymysql\n",
    "\n",
    "db_settings_build_data = {\n",
    "    \"host\": \"\",\n",
    "    \"port\": 3306,\n",
    "    \"user\": \"shine\",\n",
    "    \"password\": \"\",\n",
    "    \"db\": \"build_data\",\n",
    "    \"charset\": \"utf8\"\n",
    "}\n",
    "\n",
    "    \n",
    "\n",
    "    \n",
    "all_list=[]\n",
    "\n",
    "def scrape(list_cut):\n",
    "    try:\n",
    "    # 建立Connection物件\n",
    "        conn = pymysql.connect(**db_settings_build_data)\n",
    "            \n",
    "    except Exception as ex:\n",
    "        print(ex)\n",
    "    for dic in list_cut:\n",
    "        try:\n",
    "        \n",
    "            with conn.cursor(pymysql.cursors.DictCursor) as cursor:\n",
    "            # 查詢資料SQL語法\n",
    "    #             print(dic[0])\n",
    "                command = f\"SELECT * FROM build_data.bm_build_list where bkey = '{dic[0]}' ;\"\n",
    "                command2 = f\"SELECT * FROM build_data.build_mark where bkey = '{dic[0]}' ;\"\n",
    "                # 執行指令\n",
    "                cursor.execute(command)\n",
    "                # 取得所有資料\n",
    "                result = cursor.fetchone()\n",
    "                \n",
    "                cursor.execute(command2)\n",
    "                result2 = cursor.fetchone()\n",
    "\n",
    "    #             print(result)\n",
    "                dicct= {\n",
    "\n",
    "                    '使照號(樂居提供)':dic[3],\n",
    "                    '完成日':result['finish_day'],\n",
    "                    '縣市':dic[1],\n",
    "                    '行政區':dic[2],\n",
    "                    '地段':dic[5],\n",
    "                    '地段代碼':dic[0][5:9],\n",
    "                    '建號': dic[0][-9:],\n",
    "                    '層次(樓層)':result['floor_list'],\n",
    "                    '總樓高': result['total_level'],\n",
    "                    '總面積m2': result['build_size'],\n",
    "                    '主建物面積m2': str(result['main_size']),\n",
    "                    '附屬建物面積m2' :str(result['attach_size']) ,\n",
    "                    '公設面積m2(含車位)' :str(result['public_size']) ,\n",
    "                    '主要用途' :result['main_purpose'] ,\n",
    "                    '主建物細項' :result['building_detail'] ,\n",
    "                    '附屬建物細項' :result['attach_detail'] ,\n",
    "                    '主建部分資料文字' :result2['BM14'] ,\n",
    "                    '共有部分資料文字' :result2['BM12'] ,\n",
    "                    '車位面積m2' : str(result['parking_size'])\n",
    "                }\n",
    "                all_list.append(dicct)\n",
    "                print(dicct)\n",
    "        except Exception as e: \n",
    "            print(e) \n",
    "        \n",
    " \n",
    " \n",
    " \n",
    "start_time = time.time()  # 開始時間\n",
    " \n",
    "# 同時建立及啟用10個執行緒\n",
    "with concurrent.futures.ThreadPoolExecutor(max_workers=10) as executor:\n",
    "    executor.map(scrape, list_cut)\n",
    " \n",
    "end_time = time.time()\n",
    "print(f\"{end_time - start_time} 秒爬取  {len(all_list)}筆\")\n",
    "pd.DataFrame(all_list).to_excel('樂居格式_output_test.xlsx')\n"
   ]
  },
  {
   "cell_type": "code",
   "execution_count": null,
   "id": "78681970",
   "metadata": {},
   "outputs": [],
   "source": [
    "str(result['main_size'])"
   ]
  },
  {
   "cell_type": "code",
   "execution_count": null,
   "id": "c4cde609",
   "metadata": {},
   "outputs": [],
   "source": [
    "result"
   ]
  },
  {
   "cell_type": "code",
   "execution_count": 1,
   "id": "d209fa15",
   "metadata": {},
   "outputs": [],
   "source": [
    "import pandas as pd\n",
    " \n",
    "df = pd.read_excel(\"樂居格式_output_test.xlsx\")\n"
   ]
  },
  {
   "cell_type": "code",
   "execution_count": 3,
   "id": "344f7f4b",
   "metadata": {},
   "outputs": [],
   "source": [
    "import numpy as np\n",
    "df['完成日'] = np.where(df['完成日'].str.contains('民國'), df['完成日'], \"民國\"+df['完成日'])\n",
    "\n"
   ]
  },
  {
   "cell_type": "code",
   "execution_count": 7,
   "id": "41183762",
   "metadata": {
    "scrolled": true
   },
   "outputs": [],
   "source": [
    "df.to_excel(\"ok.xlsx\")"
   ]
  },
  {
   "cell_type": "code",
   "execution_count": null,
   "id": "804eb347",
   "metadata": {},
   "outputs": [],
   "source": []
  }
 ],
 "metadata": {
  "kernelspec": {
   "display_name": "Python 3 (ipykernel)",
   "language": "python",
   "name": "python3"
  },
  "language_info": {
   "codemirror_mode": {
    "name": "ipython",
    "version": 3
   },
   "file_extension": ".py",
   "mimetype": "text/x-python",
   "name": "python",
   "nbconvert_exporter": "python",
   "pygments_lexer": "ipython3",
   "version": "3.10.5"
  }
 },
 "nbformat": 4,
 "nbformat_minor": 5
}
